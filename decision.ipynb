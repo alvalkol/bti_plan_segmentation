{
  "cells": [
    {
      "cell_type": "markdown",
      "metadata": {
        "id": "PFl6kX-JeKdG"
      },
      "source": [
        "## Установка необходимых библиотек"
      ]
    },
    {
      "cell_type": "code",
      "source": [
        "from google.colab import drive\n",
        "drive.mount('/content/drive')"
      ],
      "metadata": {
        "colab": {
          "base_uri": "https://localhost:8080/"
        },
        "id": "kOQ1BxroT6-s",
        "outputId": "c807d2a9-2190-4493-b0f7-edfb6fc2b784"
      },
      "execution_count": null,
      "outputs": [
        {
          "output_type": "stream",
          "name": "stdout",
          "text": [
            "Drive already mounted at /content/drive; to attempt to forcibly remount, call drive.mount(\"/content/drive\", force_remount=True).\n"
          ]
        }
      ]
    },
    {
      "cell_type": "code",
      "execution_count": null,
      "metadata": {
        "id": "bE1RDE13yXsw",
        "colab": {
          "base_uri": "https://localhost:8080/",
          "height": 1000
        },
        "outputId": "0738d763-3f5b-46ba-8e1c-7a1c08e0cf48"
      },
      "outputs": [
        {
          "output_type": "stream",
          "name": "stdout",
          "text": [
            "Looking in indexes: https://pypi.org/simple, https://us-python.pkg.dev/colab-wheels/public/simple/\n",
            "Collecting python-dotenv==0.19.0\n",
            "  Downloading python_dotenv-0.19.0-py2.py3-none-any.whl (17 kB)\n",
            "Collecting tqdm==4.62.2\n",
            "  Downloading tqdm-4.62.2-py2.py3-none-any.whl (76 kB)\n",
            "\u001b[K     |████████████████████████████████| 76 kB 2.8 MB/s \n",
            "\u001b[?25hRequirement already satisfied: numpy in /usr/local/lib/python3.7/dist-packages (1.21.6)\n",
            "Collecting Pillow==7.0.0\n",
            "  Downloading Pillow-7.0.0-cp37-cp37m-manylinux1_x86_64.whl (2.1 MB)\n",
            "\u001b[K     |████████████████████████████████| 2.1 MB 29.6 MB/s \n",
            "\u001b[?25hCollecting matplotlib==3.4.3\n",
            "  Downloading matplotlib-3.4.3-cp37-cp37m-manylinux1_x86_64.whl (10.3 MB)\n",
            "\u001b[K     |████████████████████████████████| 10.3 MB 37.0 MB/s \n",
            "\u001b[?25hRequirement already satisfied: opencv-python==4.6.0.66 in /usr/local/lib/python3.7/dist-packages (4.6.0.66)\n",
            "Requirement already satisfied: opencv-python-headless==4.6.0.66 in /usr/local/lib/python3.7/dist-packages (4.6.0.66)\n",
            "Requirement already satisfied: python-dateutil>=2.7 in /usr/local/lib/python3.7/dist-packages (from matplotlib==3.4.3) (2.8.2)\n",
            "Requirement already satisfied: pyparsing>=2.2.1 in /usr/local/lib/python3.7/dist-packages (from matplotlib==3.4.3) (3.0.9)\n",
            "Requirement already satisfied: kiwisolver>=1.0.1 in /usr/local/lib/python3.7/dist-packages (from matplotlib==3.4.3) (1.4.4)\n",
            "Requirement already satisfied: cycler>=0.10 in /usr/local/lib/python3.7/dist-packages (from matplotlib==3.4.3) (0.11.0)\n",
            "Requirement already satisfied: typing-extensions in /usr/local/lib/python3.7/dist-packages (from kiwisolver>=1.0.1->matplotlib==3.4.3) (4.1.1)\n",
            "Requirement already satisfied: six>=1.5 in /usr/local/lib/python3.7/dist-packages (from python-dateutil>=2.7->matplotlib==3.4.3) (1.15.0)\n",
            "Installing collected packages: Pillow, tqdm, python-dotenv, matplotlib\n",
            "  Attempting uninstall: Pillow\n",
            "    Found existing installation: Pillow 7.1.2\n",
            "    Uninstalling Pillow-7.1.2:\n",
            "      Successfully uninstalled Pillow-7.1.2\n",
            "  Attempting uninstall: tqdm\n",
            "    Found existing installation: tqdm 4.64.1\n",
            "    Uninstalling tqdm-4.64.1:\n",
            "      Successfully uninstalled tqdm-4.64.1\n",
            "  Attempting uninstall: matplotlib\n",
            "    Found existing installation: matplotlib 3.2.2\n",
            "    Uninstalling matplotlib-3.2.2:\n",
            "      Successfully uninstalled matplotlib-3.2.2\n",
            "\u001b[31mERROR: pip's dependency resolver does not currently take into account all the packages that are installed. This behaviour is the source of the following dependency conflicts.\n",
            "bokeh 2.3.3 requires pillow>=7.1.0, but you have pillow 7.0.0 which is incompatible.\u001b[0m\n",
            "Successfully installed Pillow-7.0.0 matplotlib-3.4.3 python-dotenv-0.19.0 tqdm-4.62.2\n"
          ]
        },
        {
          "output_type": "display_data",
          "data": {
            "application/vnd.colab-display-data+json": {
              "pip_warning": {
                "packages": [
                  "PIL",
                  "matplotlib",
                  "mpl_toolkits"
                ]
              }
            }
          },
          "metadata": {}
        },
        {
          "output_type": "stream",
          "name": "stdout",
          "text": [
            "Looking in indexes: https://pypi.org/simple, https://us-python.pkg.dev/colab-wheels/public/simple/\n",
            "Collecting scikit-learn==0.24.2\n",
            "  Downloading scikit_learn-0.24.2-cp37-cp37m-manylinux2010_x86_64.whl (22.3 MB)\n",
            "\u001b[K     |████████████████████████████████| 22.3 MB 1.7 MB/s \n",
            "\u001b[?25hRequirement already satisfied: torch==1.12.1 in /usr/local/lib/python3.7/dist-packages (1.12.1+cu113)\n",
            "Requirement already satisfied: torchvision==0.13.1 in /usr/local/lib/python3.7/dist-packages (0.13.1+cu113)\n",
            "Collecting pytorch-ignite\n",
            "  Downloading pytorch_ignite-0.4.10-py3-none-any.whl (264 kB)\n",
            "\u001b[K     |████████████████████████████████| 264 kB 39.0 MB/s \n",
            "\u001b[?25hCollecting segmentation-models-pytorch==0.2.0\n",
            "  Downloading segmentation_models_pytorch-0.2.0-py3-none-any.whl (87 kB)\n",
            "\u001b[K     |████████████████████████████████| 87 kB 5.3 MB/s \n",
            "\u001b[?25hCollecting albumentations==1.0.3\n",
            "  Downloading albumentations-1.0.3-py3-none-any.whl (98 kB)\n",
            "\u001b[K     |████████████████████████████████| 98 kB 7.6 MB/s \n",
            "\u001b[?25hRequirement already satisfied: threadpoolctl>=2.0.0 in /usr/local/lib/python3.7/dist-packages (from scikit-learn==0.24.2) (3.1.0)\n",
            "Requirement already satisfied: joblib>=0.11 in /usr/local/lib/python3.7/dist-packages (from scikit-learn==0.24.2) (1.2.0)\n",
            "Requirement already satisfied: numpy>=1.13.3 in /usr/local/lib/python3.7/dist-packages (from scikit-learn==0.24.2) (1.21.6)\n",
            "Requirement already satisfied: scipy>=0.19.1 in /usr/local/lib/python3.7/dist-packages (from scikit-learn==0.24.2) (1.7.3)\n",
            "Requirement already satisfied: typing-extensions in /usr/local/lib/python3.7/dist-packages (from torch==1.12.1) (4.1.1)\n",
            "Requirement already satisfied: pillow!=8.3.*,>=5.3.0 in /usr/local/lib/python3.7/dist-packages (from torchvision==0.13.1) (7.0.0)\n",
            "Requirement already satisfied: requests in /usr/local/lib/python3.7/dist-packages (from torchvision==0.13.1) (2.23.0)\n",
            "Collecting pretrainedmodels==0.7.4\n",
            "  Downloading pretrainedmodels-0.7.4.tar.gz (58 kB)\n",
            "\u001b[K     |████████████████████████████████| 58 kB 6.6 MB/s \n",
            "\u001b[?25hCollecting timm==0.4.12\n",
            "  Downloading timm-0.4.12-py3-none-any.whl (376 kB)\n",
            "\u001b[K     |████████████████████████████████| 376 kB 61.0 MB/s \n",
            "\u001b[?25hCollecting efficientnet-pytorch==0.6.3\n",
            "  Downloading efficientnet_pytorch-0.6.3.tar.gz (16 kB)\n",
            "Requirement already satisfied: PyYAML in /usr/local/lib/python3.7/dist-packages (from albumentations==1.0.3) (6.0)\n",
            "Requirement already satisfied: opencv-python-headless>=4.1.1 in /usr/local/lib/python3.7/dist-packages (from albumentations==1.0.3) (4.6.0.66)\n",
            "Requirement already satisfied: scikit-image>=0.16.1 in /usr/local/lib/python3.7/dist-packages (from albumentations==1.0.3) (0.18.3)\n",
            "Collecting munch\n",
            "  Downloading munch-2.5.0-py2.py3-none-any.whl (10 kB)\n",
            "Requirement already satisfied: tqdm in /usr/local/lib/python3.7/dist-packages (from pretrainedmodels==0.7.4->segmentation-models-pytorch==0.2.0) (4.62.2)\n",
            "Requirement already satisfied: imageio>=2.3.0 in /usr/local/lib/python3.7/dist-packages (from scikit-image>=0.16.1->albumentations==1.0.3) (2.9.0)\n",
            "Requirement already satisfied: PyWavelets>=1.1.1 in /usr/local/lib/python3.7/dist-packages (from scikit-image>=0.16.1->albumentations==1.0.3) (1.3.0)\n",
            "Requirement already satisfied: matplotlib!=3.0.0,>=2.0.0 in /usr/local/lib/python3.7/dist-packages (from scikit-image>=0.16.1->albumentations==1.0.3) (3.4.3)\n",
            "Requirement already satisfied: networkx>=2.0 in /usr/local/lib/python3.7/dist-packages (from scikit-image>=0.16.1->albumentations==1.0.3) (2.6.3)\n",
            "Requirement already satisfied: tifffile>=2019.7.26 in /usr/local/lib/python3.7/dist-packages (from scikit-image>=0.16.1->albumentations==1.0.3) (2021.11.2)\n",
            "Requirement already satisfied: python-dateutil>=2.7 in /usr/local/lib/python3.7/dist-packages (from matplotlib!=3.0.0,>=2.0.0->scikit-image>=0.16.1->albumentations==1.0.3) (2.8.2)\n",
            "Requirement already satisfied: kiwisolver>=1.0.1 in /usr/local/lib/python3.7/dist-packages (from matplotlib!=3.0.0,>=2.0.0->scikit-image>=0.16.1->albumentations==1.0.3) (1.4.4)\n",
            "Requirement already satisfied: cycler>=0.10 in /usr/local/lib/python3.7/dist-packages (from matplotlib!=3.0.0,>=2.0.0->scikit-image>=0.16.1->albumentations==1.0.3) (0.11.0)\n",
            "Requirement already satisfied: pyparsing>=2.2.1 in /usr/local/lib/python3.7/dist-packages (from matplotlib!=3.0.0,>=2.0.0->scikit-image>=0.16.1->albumentations==1.0.3) (3.0.9)\n",
            "Requirement already satisfied: six>=1.5 in /usr/local/lib/python3.7/dist-packages (from python-dateutil>=2.7->matplotlib!=3.0.0,>=2.0.0->scikit-image>=0.16.1->albumentations==1.0.3) (1.15.0)\n",
            "Requirement already satisfied: packaging in /usr/local/lib/python3.7/dist-packages (from pytorch-ignite) (21.3)\n",
            "Requirement already satisfied: certifi>=2017.4.17 in /usr/local/lib/python3.7/dist-packages (from requests->torchvision==0.13.1) (2022.9.24)\n",
            "Requirement already satisfied: chardet<4,>=3.0.2 in /usr/local/lib/python3.7/dist-packages (from requests->torchvision==0.13.1) (3.0.4)\n",
            "Requirement already satisfied: idna<3,>=2.5 in /usr/local/lib/python3.7/dist-packages (from requests->torchvision==0.13.1) (2.10)\n",
            "Requirement already satisfied: urllib3!=1.25.0,!=1.25.1,<1.26,>=1.21.1 in /usr/local/lib/python3.7/dist-packages (from requests->torchvision==0.13.1) (1.24.3)\n",
            "Building wheels for collected packages: efficientnet-pytorch, pretrainedmodels\n",
            "  Building wheel for efficientnet-pytorch (setup.py) ... \u001b[?25l\u001b[?25hdone\n",
            "  Created wheel for efficientnet-pytorch: filename=efficientnet_pytorch-0.6.3-py3-none-any.whl size=12422 sha256=4da03d2ce9d76897b1850558ad50b751911707e966b60476532bdde4da8db540\n",
            "  Stored in directory: /root/.cache/pip/wheels/90/6b/0c/f0ad36d00310e65390b0d4c9218ae6250ac579c92540c9097a\n",
            "  Building wheel for pretrainedmodels (setup.py) ... \u001b[?25l\u001b[?25hdone\n",
            "  Created wheel for pretrainedmodels: filename=pretrainedmodels-0.7.4-py3-none-any.whl size=60966 sha256=9a90fbb4a7ae439caf2585fdfbe258d088631c178c13db7ce3f42603624bc859\n",
            "  Stored in directory: /root/.cache/pip/wheels/ed/27/e8/9543d42de2740d3544db96aefef63bda3f2c1761b3334f4873\n",
            "Successfully built efficientnet-pytorch pretrainedmodels\n",
            "Installing collected packages: munch, timm, pretrainedmodels, efficientnet-pytorch, segmentation-models-pytorch, scikit-learn, pytorch-ignite, albumentations\n",
            "  Attempting uninstall: scikit-learn\n",
            "    Found existing installation: scikit-learn 1.0.2\n",
            "    Uninstalling scikit-learn-1.0.2:\n",
            "      Successfully uninstalled scikit-learn-1.0.2\n",
            "  Attempting uninstall: albumentations\n",
            "    Found existing installation: albumentations 1.2.1\n",
            "    Uninstalling albumentations-1.2.1:\n",
            "      Successfully uninstalled albumentations-1.2.1\n",
            "\u001b[31mERROR: pip's dependency resolver does not currently take into account all the packages that are installed. This behaviour is the source of the following dependency conflicts.\n",
            "yellowbrick 1.5 requires scikit-learn>=1.0.0, but you have scikit-learn 0.24.2 which is incompatible.\u001b[0m\n",
            "Successfully installed albumentations-1.0.3 efficientnet-pytorch-0.6.3 munch-2.5.0 pretrainedmodels-0.7.4 pytorch-ignite-0.4.10 scikit-learn-0.24.2 segmentation-models-pytorch-0.2.0 timm-0.4.12\n"
          ]
        }
      ],
      "source": [
        "!pip install python-dotenv==0.19.0 tqdm==4.62.2 numpy Pillow==7.0.0 matplotlib==3.4.3 opencv-python==4.6.0.66 opencv-python-headless==4.6.0.66 matplotlib\n",
        "!pip install scikit-learn==0.24.2 torch==1.12.1 torchvision==0.13.1 pytorch-ignite segmentation-models-pytorch==0.2.0 albumentations==1.0.3"
      ]
    },
    {
      "cell_type": "code",
      "execution_count": null,
      "metadata": {
        "id": "B8hpHLWYv9Ak"
      },
      "outputs": [],
      "source": [
        "## Импорт необходимых библиотек\n",
        "import torch\n",
        "import torch.nn as nn\n",
        "\n",
        "from ignite.engine import Events, create_supervised_trainer, create_supervised_evaluator\n",
        "from ignite.metrics import Loss, Metric\n",
        "from ignite.engine import _prepare_batch\n",
        "\n",
        "from tqdm import tqdm\n",
        "\n",
        "import json\n",
        "import base64\n",
        "import os\n",
        "import glob\n",
        "import numpy as np\n",
        "import cv2\n",
        "import matplotlib.pyplot as plt\n",
        "\n",
        "from PIL import Image\n",
        "import segmentation_models_pytorch as smp\n",
        "\n",
        "import albumentations as A\n",
        "from albumentations.pytorch import ToTensorV2\n",
        "from torch.utils.data import Dataset, DataLoader\n",
        "from sklearn.model_selection import train_test_split\n",
        "from typing import Callable, Tuple, Dict, Any, List, Sequence, Iterator, Optional\n",
        "from collections import defaultdict\n",
        "from torchvision.models.detection.faster_rcnn import fasterrcnn_resnet50_fpn, FastRCNNPredictor\n",
        "\n",
        "from ipywidgets import IntProgress\n",
        "from IPython.display import display\n",
        "import time"
      ]
    },
    {
      "cell_type": "markdown",
      "source": [
        "## Сегментация дверей и окон"
      ],
      "metadata": {
        "id": "8Dazi4VbOjZV"
      }
    },
    {
      "cell_type": "markdown",
      "source": [
        "### Вспомогательные функции"
      ],
      "metadata": {
        "id": "nrRA5XNbN7xL"
      }
    },
    {
      "cell_type": "code",
      "execution_count": null,
      "metadata": {
        "id": "LFuViSg26sA2"
      },
      "outputs": [],
      "source": [
        "## PLRC DATASET - класс и необходимые функции для датасета\n",
        "\n",
        "def get_color_map():\n",
        "    return {\n",
        "        #\"wall\": 255,\n",
        "        \"window\": 255\n",
        "    }\n",
        "\n",
        "def tensor_from_rgb_image(image: np.ndarray) -> torch.Tensor:\n",
        "    image = np.moveaxis(image, -1, 0)\n",
        "    image = np.ascontiguousarray(image)\n",
        "    image = torch.from_numpy(image)\n",
        "    return image\n",
        "\n",
        "\n",
        "def tensor_from_mask_image(mask: np.ndarray) -> torch.Tensor:\n",
        "    if len(mask.shape) == 2:\n",
        "        mask = np.expand_dims(mask, -1)\n",
        "    return tensor_from_rgb_image(mask)\n",
        "\n",
        "\n",
        "class PLRCDataset(Dataset):\n",
        "    def __init__(self, image_folder, transform, start_index, end_index, mask_folder=None):\n",
        "        self.image_folder = image_folder\n",
        "        self.mask_folder = mask_folder\n",
        "        self.transform = transform\n",
        "\n",
        "        self.images = PLRCDataset.parse_folder(self.image_folder, start_index, end_index)\n",
        "        self.color_map = get_color_map()\n",
        "\n",
        "    @staticmethod\n",
        "    def parse_folder(path, start, end):\n",
        "        if path is None:\n",
        "            return []\n",
        "        images = glob.glob1(path,  '*.png')\n",
        "        images.sort()\n",
        "\n",
        "        return images[start:end]\n",
        "\n",
        "    @staticmethod\n",
        "    def load_image(path) -> np.array:\n",
        "        return cv2.imread(path, 0)\n",
        "\n",
        "    @staticmethod\n",
        "    def load_mask(path) -> np.array:\n",
        "        return cv2.imread(path, 0)\n",
        "\n",
        "    @staticmethod\n",
        "    def split_grayscale_mask_into_channels_by_color_map(mask, color_map) -> torch.Tensor:\n",
        "        masks = []\n",
        "\n",
        "        for i in color_map.values():\n",
        "            masks.append(mask == i)\n",
        "\n",
        "        return torch.cat(masks).float()\n",
        "\n",
        "    def mask_to_grayscale(self, masks) -> np.ndarray:\n",
        "        masks = masks.cpu().numpy()\n",
        "\n",
        "        colors_by_index = list(self.color_map.values())\n",
        "        img = np.zeros(masks.shape[1:], dtype=np.uint8)\n",
        "\n",
        "        for i in range(len(masks)):\n",
        "            img[masks[i] == 1] = colors_by_index[i]\n",
        "\n",
        "        return img\n",
        "\n",
        "    def __getitem__(self, index):\n",
        "        image_name = self.images[index]\n",
        "        image_path = os.path.join(self.image_folder, image_name)\n",
        "\n",
        "        image = PLRCDataset.load_image(image_path)\n",
        "\n",
        "        if self.mask_folder is None:\n",
        "            # sample = self.transform(image=image)\n",
        "            # image = sample['image']\n",
        "            return image_name, tensor_from_mask_image(image).float() / 255.0\n",
        "\n",
        "        mask_path = os.path.join(self.mask_folder, image_name)\n",
        "        mask = PLRCDataset.load_mask(mask_path)\n",
        "\n",
        "        sample = self.transform(image=image, mask=mask)\n",
        "        image, mask = sample['image'], sample['mask']\n",
        "\n",
        "        image = tensor_from_mask_image(image)\n",
        "        image = torch.cat([image, image, image])\n",
        "        mask = tensor_from_mask_image(mask)\n",
        "\n",
        "        mask = PLRCDataset.split_grayscale_mask_into_channels_by_color_map(mask, self.color_map)\n",
        "\n",
        "        return image.float() / 255.0, mask\n",
        "\n",
        "    def __len__(self):\n",
        "        return len(self.images)\n",
        "\n",
        "\n",
        "## PLRC UTILS = утилиты для подсчета\n",
        "\n",
        "\n",
        "def get_training_augmentation():\n",
        "    return A.Compose([\n",
        "        # A.RandomCrop(height=256, width=256, p=1),\n",
        "        A.Normalize(mean=(0.5,), std=(0.5,)),\n",
        "        A.VerticalFlip(p=1),              \n",
        "        A.RandomRotate90(p=1)\n",
        "    ], p=1)\n",
        "\n",
        "\n",
        "def get_test_augmentation():\n",
        "    return A.Compose([\n",
        "        A.Normalize(mean=(0.5,), std=(0.5,)),\n",
        "    ], p=1)\n",
        "\n",
        "\n",
        "def get_data_loader(path, batch_size, n_processes, start_index, end_index, shuffle=True):\n",
        "    image_path = os.path.join(path, 'image')\n",
        "    mask_path = os.path.join(path, 'mask')\n",
        "\n",
        "    dataset = PLRCDataset(image_folder=image_path, mask_folder=mask_path, transform=get_training_augmentation(), \n",
        "                          start_index=start_index, end_index=end_index)\n",
        "\n",
        "    return DataLoader(dataset=dataset, batch_size=batch_size, drop_last=True, num_workers=n_processes, shuffle=shuffle)\n",
        "\n",
        "\n",
        "def get_train_validation_data_loaders(path, batch_size, n_processes, train_split):\n",
        "    files_count = len(os.listdir(os.path.join(path, 'image')))\n",
        "\n",
        "    train_dl = get_data_loader(path, batch_size, n_processes, shuffle=True, start_index=0, end_index=int(files_count*train_split))\n",
        "    test_dl = get_data_loader(path, batch_size, n_processes, shuffle=False, start_index=int(\n",
        "        files_count*train_split), end_index=(files_count-1))\n",
        "\n",
        "    return train_dl, test_dl\n",
        "\n",
        "\n",
        "## DATA LOSS - функции для подсчета метрик качества обучения нейросетей\n",
        "\n",
        "class BCESoftDiceLoss:\n",
        "    def __init__(self, dice_weight=0):\n",
        "        self.nll_loss = nn.BCEWithLogitsLoss()\n",
        "        self.dice_weight = dice_weight\n",
        "\n",
        "    @staticmethod\n",
        "    def soft_dice(predict, target):\n",
        "        eps = 1e-15\n",
        "        batch_size = target.size()[0]\n",
        "\n",
        "        dice_target = (target == 1).float().view(batch_size, -1)\n",
        "        dice_predict = torch.sigmoid(predict).view(batch_size, -1)\n",
        "\n",
        "        inter = torch.sum(dice_predict * dice_target) / batch_size\n",
        "        union = (torch.sum(dice_predict) + torch.sum(dice_target)) / batch_size + eps\n",
        "\n",
        "        return (2 * inter.float() + eps) / union.float()\n",
        "\n",
        "    def __call__(self, predict, target):\n",
        "        loss = (1.0 - self.dice_weight) * self.nll_loss(predict, target)\n",
        "\n",
        "        if self.dice_weight:\n",
        "            loss -= self.dice_weight * torch.log(BCESoftDiceLoss.soft_dice(predict, target))\n",
        "\n",
        "        return loss\n",
        "\n",
        "\n",
        "class MultiClassBCESoftDiceLoss:\n",
        "    def __init__(self, dice_weight=0):\n",
        "        self.bce_soft_dice = BCESoftDiceLoss(dice_weight)\n",
        "\n",
        "    def __call__(self, predict, target):\n",
        "        classes = target.shape[1]\n",
        "        loss = predict.new_zeros(1)\n",
        "\n",
        "        for i in range(classes):\n",
        "            loss += self.bce_soft_dice(predict[:, i].unsqueeze(1), target[:, i].unsqueeze(1))\n",
        "\n",
        "        return loss[0] / float(classes)\n",
        "\n",
        "\n",
        "class MultiClassSoftDiceMetric(Metric):\n",
        "    def __init__(self):\n",
        "        super(MultiClassSoftDiceMetric, self).__init__()\n",
        "        self.general_loss = 0\n",
        "\n",
        "    def reset(self):\n",
        "        self.general_loss = 0\n",
        "\n",
        "    def update(self, output):\n",
        "        predict, target = output\n",
        "\n",
        "        classes = target.shape[1]\n",
        "        loss = predict.new_zeros(1)\n",
        "\n",
        "        for i in range(classes):\n",
        "            loss += BCESoftDiceLoss.soft_dice(predict[:, i].unsqueeze(1), target[:, i].unsqueeze(1))\n",
        "\n",
        "        self.general_loss = loss[0] / float(classes)\n",
        "\n",
        "    def compute(self):\n",
        "        return self.general_loss\n",
        "\n",
        "\n",
        "\n",
        "## Функции для обучения\n",
        "\n",
        "def load_trained_model(model, optimizer, model_path, optimizer_path):\n",
        "    model.load_state_dict(torch.load(model_path))\n",
        "    optimizer.load_state_dict(torch.load(optimizer_path))\n",
        "    print('Load model from: ', model_path)\n",
        "    print('Load optimizer from: ', optimizer_path)\n",
        "\n",
        "\n",
        "def save_model(model, optimizer, model_path, optimizer_path, postfix='_'):\n",
        "    torch.save(model.state_dict(), model_path + postfix)\n",
        "    torch.save(optimizer.state_dict(), optimizer_path + postfix)\n",
        "\n",
        "\n",
        "def log_image(image, prefix, epoch, step):\n",
        "    img = Image.fromarray(image)\n",
        "    image_name = \"%s_%s_%s.png\" % (epoch, step, prefix)\n",
        "    img.save(image_name)\n",
        "\n",
        "    os.remove(image_name)\n",
        "\n",
        "\n",
        "def run_test_model(model, evaluate_loader, epoch, device, step=10):\n",
        "    model.eval()\n",
        "    count_step = 0\n",
        "\n",
        "    for idx, batch in enumerate(evaluate_loader):\n",
        "        if count_step > step:\n",
        "            break\n",
        "\n",
        "        x, y = _prepare_batch(batch, device)\n",
        "\n",
        "        predict = model(x)\n",
        "        predict = torch.sigmoid(predict) > 0.2\n",
        "\n",
        "        count_step += len(x)\n",
        "\n",
        "    model.train()\n",
        "\n",
        "\n",
        "def run_train(dataset_path, batch_size, n_processes, model_path, optimizer_path, load_pre_model=False,\n",
        "              device='cpu', lr=0.0001, betas=(0.9, 0.99), weight_decay=0.0004, epochs=10,\n",
        "              log_interval=20, save_interval=2, train_split=0.85):\n",
        "\n",
        "    train_loader, evaluate_loader = get_train_validation_data_loaders(path=dataset_path, batch_size=batch_size,\n",
        "                                                                      n_processes=n_processes, train_split=train_split)\n",
        "    model = smp.FPN('resnet50', classes=24)\n",
        "\n",
        "    if device.startswith('cuda'):\n",
        "        if not torch.cuda.is_available():\n",
        "            raise ValueError('CUDA is not available')\n",
        "\n",
        "        model = model.to(device)\n",
        "        print('CUDA is used')\n",
        "\n",
        "    optimizer = torch.optim.Adam(model.parameters(), lr=lr, betas=betas, weight_decay=weight_decay)\n",
        "\n",
        "    if load_pre_model:\n",
        "        load_trained_model(model, optimizer, model_path, optimizer_path)\n",
        "\n",
        "    trainer = create_supervised_trainer(model, optimizer, MultiClassBCESoftDiceLoss(0.7), device=device)\n",
        "    evaluator = create_supervised_evaluator(model,\n",
        "                                            metrics={'dice': MultiClassSoftDiceMetric(),\n",
        "                                                     'nll': Loss(MultiClassBCESoftDiceLoss(0.7))},\n",
        "                                            device=device)\n",
        "\n",
        "    desc = \"ITERATION - loss: {:.2f}\"\n",
        "    pbar = None\n",
        "\n",
        "    @trainer.on(Events.EPOCH_STARTED)\n",
        "    def create_pbar(engine):\n",
        "        model.train()\n",
        "        nonlocal pbar\n",
        "        pbar = tqdm(\n",
        "            initial=0, leave=False, total=len(train_loader),\n",
        "            desc=desc.format(0)\n",
        "        )\n",
        "\n",
        "    @trainer.on(Events.EPOCH_COMPLETED)\n",
        "    def log_training_results(engine):\n",
        "        pbar.close()\n",
        "        evaluator.run(evaluate_loader)\n",
        "        metrics = evaluator.state.metrics\n",
        "        avg_dice = metrics['dice']\n",
        "        avg_nll = metrics['nll']\n",
        "\n",
        "\n",
        "        print(\"Training Results - Epoch: {}  Dice: {:.2f} Avg loss: {:.2f}\"\n",
        "              .format(engine.state.epoch, avg_dice, avg_nll))\n",
        "\n",
        "        if engine.state.epoch % save_interval == 0:\n",
        "            save_model(model, optimizer, model_path, optimizer_path, '_' + list(get_color_map().keys())[0]) #str(engine.state.epoch))\n",
        "            run_test_model(model, evaluate_loader, engine.state.epoch, device)\n",
        "\n",
        "    @trainer.on(Events.ITERATION_COMPLETED)\n",
        "    def log_training_loss(engine):\n",
        "\n",
        "        pbar.desc = desc.format(engine.state.output)\n",
        "        pbar.update()\n",
        "\n",
        "\n",
        "    model.train()\n",
        "\n",
        "    trainer.run(train_loader, max_epochs=epochs)"
      ]
    },
    {
      "cell_type": "code",
      "source": [
        "pip install matplotlib==3.1.3"
      ],
      "metadata": {
        "id": "Ksgzck03RAHK",
        "colab": {
          "base_uri": "https://localhost:8080/",
          "height": 433
        },
        "outputId": "84fb5cbd-566c-4dce-dff2-81123c4d9ec1"
      },
      "execution_count": null,
      "outputs": [
        {
          "output_type": "stream",
          "name": "stdout",
          "text": [
            "Looking in indexes: https://pypi.org/simple, https://us-python.pkg.dev/colab-wheels/public/simple/\n",
            "Collecting matplotlib==3.1.3\n",
            "  Downloading matplotlib-3.1.3-cp37-cp37m-manylinux1_x86_64.whl (13.1 MB)\n",
            "\u001b[K     |████████████████████████████████| 13.1 MB 4.5 MB/s \n",
            "\u001b[?25hRequirement already satisfied: kiwisolver>=1.0.1 in /usr/local/lib/python3.7/dist-packages (from matplotlib==3.1.3) (1.4.4)\n",
            "Requirement already satisfied: pyparsing!=2.0.4,!=2.1.2,!=2.1.6,>=2.0.1 in /usr/local/lib/python3.7/dist-packages (from matplotlib==3.1.3) (3.0.9)\n",
            "Requirement already satisfied: cycler>=0.10 in /usr/local/lib/python3.7/dist-packages (from matplotlib==3.1.3) (0.11.0)\n",
            "Requirement already satisfied: python-dateutil>=2.1 in /usr/local/lib/python3.7/dist-packages (from matplotlib==3.1.3) (2.8.2)\n",
            "Requirement already satisfied: numpy>=1.11 in /usr/local/lib/python3.7/dist-packages (from matplotlib==3.1.3) (1.21.6)\n",
            "Requirement already satisfied: typing-extensions in /usr/local/lib/python3.7/dist-packages (from kiwisolver>=1.0.1->matplotlib==3.1.3) (4.1.1)\n",
            "Requirement already satisfied: six>=1.5 in /usr/local/lib/python3.7/dist-packages (from python-dateutil>=2.1->matplotlib==3.1.3) (1.15.0)\n",
            "Installing collected packages: matplotlib\n",
            "  Attempting uninstall: matplotlib\n",
            "    Found existing installation: matplotlib 3.4.3\n",
            "    Uninstalling matplotlib-3.4.3:\n",
            "      Successfully uninstalled matplotlib-3.4.3\n",
            "\u001b[31mERROR: pip's dependency resolver does not currently take into account all the packages that are installed. This behaviour is the source of the following dependency conflicts.\n",
            "yellowbrick 1.5 requires scikit-learn>=1.0.0, but you have scikit-learn 0.24.2 which is incompatible.\u001b[0m\n",
            "Successfully installed matplotlib-3.1.3\n"
          ]
        },
        {
          "output_type": "display_data",
          "data": {
            "application/vnd.colab-display-data+json": {
              "pip_warning": {
                "packages": [
                  "matplotlib",
                  "mpl_toolkits"
                ]
              }
            }
          },
          "metadata": {}
        }
      ]
    },
    {
      "cell_type": "code",
      "execution_count": null,
      "metadata": {
        "id": "MrIseOYL6x94"
      },
      "outputs": [],
      "source": [
        "## Необходимые вспомогательные функции\n",
        "def get_test_augmentation():\n",
        "    return A.Compose([\n",
        "        A.Normalize(mean=(0.5,), std=(0.5,)),\n",
        "    ], p=1)\n",
        "\n",
        "def mask_to_grayscale(masks) -> np.ndarray:\n",
        "    masks = masks.cpu().numpy()\n",
        "\n",
        "    img = np.zeros(masks.shape[1:], dtype=np.uint8)\n",
        "\n",
        "    img[masks[0] == 1] = 255\n",
        "\n",
        "    return img\n",
        "\n",
        "def tensor_from_rgb_image(image: np.ndarray) -> torch.Tensor:\n",
        "    image = np.moveaxis(image, -1, 0)\n",
        "    image = np.ascontiguousarray(image)\n",
        "    image = torch.from_numpy(image)\n",
        "    return image\n",
        "\n",
        "def convert_image(img):\n",
        "    if img is None:\n",
        "        return\n",
        "    height, width, channels = img.shape\n",
        "    rect = (0, 0, 512, 512)\n",
        "    h = rect[3]\n",
        "    w = int(h * width / height)\n",
        "    if w > rect[2]:\n",
        "        w = rect[2]\n",
        "        h = int(height / width * w)\n",
        "    new_img = cv2.resize(img, (w, h), interpolation=cv2.INTER_AREA)\n",
        "    s = np.full((rect[3], rect[2], 3), np.uint8(255))\n",
        "    sy = int((rect[3] - h) / 2)\n",
        "    sx = int((rect[2] - w) / 2)\n",
        "    s[sy:sy + h, sx:sx + w] = new_img\n",
        "    return s\n"
      ]
    },
    {
      "cell_type": "code",
      "source": [
        "def get_color_map():\n",
        "    return {\n",
        "        \"wall\": 255,\n",
        "        \"window\": 255\n",
        "    }"
      ],
      "metadata": {
        "id": "i0ucH1I9yliv"
      },
      "execution_count": null,
      "outputs": []
    },
    {
      "cell_type": "markdown",
      "metadata": {
        "id": "3VH_0TWXmYS0"
      },
      "source": [
        "## Детекция дверей"
      ]
    },
    {
      "cell_type": "markdown",
      "metadata": {
        "id": "ZnIyPcTgle1F"
      },
      "source": [
        "### Вспомогательные функции"
      ]
    },
    {
      "cell_type": "markdown",
      "metadata": {
        "id": "klMp7gYWmDck"
      },
      "source": [
        "#### Инициализация модели обучения и функций для подсчета метрик качества обучения нейросетей"
      ]
    },
    {
      "cell_type": "code",
      "execution_count": null,
      "metadata": {
        "id": "-0D06LoHmQP2"
      },
      "outputs": [],
      "source": [
        "def initialize_model(num_classes: int,\n",
        "                     min_size: int, max_size: int,\n",
        "                     image_mean: Sequence[float], image_std: Sequence[float],\n",
        "                     device: str = None) -> torch.nn.Module:\n",
        "    pretrained_model = fasterrcnn_resnet50_fpn(pretrained=False, min_size=min_size, max_size=max_size,\n",
        "                                               image_mean=image_mean, image_std=image_std)\n",
        "    num_predictor_features = pretrained_model.roi_heads.box_head.fc7.out_features\n",
        "    pretrained_model.roi_heads.box_predictor = FastRCNNPredictor(num_predictor_features, num_classes)\n",
        "\n",
        "    return pretrained_model.to(device)\n",
        "\n",
        "\n",
        "def compute_iou(box1: torch.tensor, box2: torch.tensor) -> torch.tensor:\n",
        "    x1 = max(box1[0], box2[0])\n",
        "    x2 = min(box1[2], box2[2])\n",
        "    y1 = max(box1[1], box2[1])\n",
        "    y2 = min(box1[3], box2[3])\n",
        "\n",
        "    if x2 - x1 < 0 or y2 - y1 < 0:\n",
        "        return 0\n",
        "\n",
        "    intersection = (x2 - x1) * (y2 - y1)\n",
        "    sum_ = ((box1[2] - box1[0]) * (box1[3] - box1[1]) +\n",
        "            (box2[2] - box2[0]) * (box2[3] - box2[1]))\n",
        "\n",
        "    iou = intersection / (sum_ - intersection)\n",
        "\n",
        "    return iou.item()\n",
        "\n",
        "\n",
        "class MeanAveragePrecision:\n",
        "\n",
        "    def __init__(self, num_conf: int = 11):\n",
        "        self.num_conf = num_conf\n",
        "\n",
        "    @staticmethod\n",
        "    def is_true(box: torch.tensor, label: int,\n",
        "                y_true: Dict[str, torch.tensor],\n",
        "                iou_thresh: float = 0.5) -> bool:\n",
        "        num_true = len(y_true['boxes'])\n",
        "\n",
        "        for i in range(num_true):\n",
        "            if label == y_true['labels'][i]:\n",
        "                if compute_iou(box, y_true['boxes'][i]) > iou_thresh:\n",
        "                    return True\n",
        "        return False\n",
        "\n",
        "    @staticmethod\n",
        "    def compute_map_given_conf(y_preds: List[Dict[str, torch.tensor]],\n",
        "                               y_trues: List[Dict[str, torch.tensor]],\n",
        "                               conf: float) -> float:\n",
        "        num_pos = defaultdict(int)\n",
        "        num_true_pos = defaultdict(int)\n",
        "\n",
        "        for y_pred, y_true in zip(y_preds, y_trues):\n",
        "\n",
        "            num_pred = len(y_pred['boxes'])\n",
        "\n",
        "            for i in range(num_pred):\n",
        "                if y_pred['scores'][i] > conf:\n",
        "                    label = y_pred['labels'][i]\n",
        "                    num_pos[label] += 1\n",
        "\n",
        "                    if MeanAveragePrecision.is_true(y_pred['boxes'][i], y_pred['labels'][i], y_true):\n",
        "                        num_true_pos[label] += 1\n",
        "\n",
        "        all_classes_sum = sum(num_true_pos[lbl] / num_pos[lbl] for lbl in num_pos)\n",
        "\n",
        "        try:\n",
        "            precision = all_classes_sum / len(num_pos)\n",
        "        except ZeroDivisionError:\n",
        "            precision = 0\n",
        "\n",
        "        return precision\n",
        "\n",
        "    def __call__(self, y_pred: List[Dict[str, torch.tensor]],\n",
        "                 y_true: List[Dict[str, torch.tensor]]) -> float:\n",
        "        assert len(y_pred) == len(y_true)\n",
        "\n",
        "        map_sum = 0\n",
        "\n",
        "        for conf in np.linspace(0, 1, self.num_conf):\n",
        "            map_sum += self.compute_map_given_conf(y_pred, y_true, conf)\n",
        "\n",
        "        return torch.tensor(map_sum / self.num_conf)\n",
        "\n",
        "\n",
        "def minimum_bounding_box(points: List[List[float]]) -> Tuple[float, float, float, float]:\n",
        "    x_min = min(p[0] for p in points)\n",
        "    y_min = min(p[1] for p in points)\n",
        "    x_max = max(p[0] for p in points)\n",
        "    y_max = max(p[1] for p in points)\n",
        "\n",
        "    return x_min, y_min, x_max, y_max\n"
      ]
    },
    {
      "cell_type": "markdown",
      "metadata": {
        "id": "HfkIFx1ylP7Q"
      },
      "source": [
        "#### Объявляем конфиг для object_detection"
      ]
    },
    {
      "cell_type": "code",
      "execution_count": null,
      "metadata": {
        "id": "MCjuuZnqlXs3"
      },
      "outputs": [],
      "source": [
        "config = {\n",
        "  \"dataset_path\": \"train/object_detection\",\n",
        "  \"model_log_interval\": 1,\n",
        "  \"data\": {\n",
        "    \"class_ids\": {\n",
        "      \"door\": 1,\n",
        "      \"door_balcony\": 1\n",
        "    }\n",
        "  },\n",
        "  \"model\": {\n",
        "    \"image_size\": 512\n",
        "  },\n",
        "  \"training\": {\n",
        "    \"num_epochs\": 2,\n",
        "    \"batch_size\": 16,\n",
        "    \"update_every_n_batches\": 1,\n",
        "    \"device\": \"cpu\",\n",
        "    \"learning_rate\": 1e-4,\n",
        "    \"num_workers\": 0\n",
        "  }\n",
        "}"
      ]
    },
    {
      "cell_type": "markdown",
      "source": [
        "## Сборка результата сегментации и детекции"
      ],
      "metadata": {
        "id": "tlW5JO67kHhZ"
      }
    },
    {
      "cell_type": "code",
      "source": [
        "def draw_pred_with_boxes(image: np.ndarray, \n",
        "                         preds: Dict[str, np.ndarray] = None):\n",
        "\n",
        "    image = image.copy()\n",
        "\n",
        "    num_boxes = len(preds['boxes'])\n",
        "\n",
        "    for i in range(num_boxes):\n",
        "        x_min, y_min, x_max, y_max = preds['boxes'][i]\n",
        "\n",
        "        cv2.rectangle(img=image,\n",
        "                      pt1=(int(x_min), int(y_min)),\n",
        "                      pt2=(int(x_max), int(y_max)),\n",
        "                      color=3,\n",
        "                      thickness=-1)\n",
        "\n",
        "    return image"
      ],
      "metadata": {
        "id": "RjU0vq9jRRmM"
      },
      "execution_count": null,
      "outputs": []
    },
    {
      "cell_type": "code",
      "source": [
        "folder_dir = '/content/drive/MyDrive/experiment/'\n",
        "transform = get_test_augmentation()\n",
        "\n",
        "# Загрузка модели сегментации окон\n",
        "model_window = smp.FPN(encoder_name='resnet50', classes=24)\n",
        "model_window.load_state_dict(torch.load(\"/content/drive/MyDrive/model/first_model/model_window_1\", map_location=torch.device('cpu')))\n",
        "model_window.eval()\n",
        "\n",
        "# Загрузка модели сегментации стен\n",
        "model_wall = smp.FPN(encoder_name='resnet50', classes=24)\n",
        "model_wall.load_state_dict(torch.load(\"/content/drive/MyDrive/model/first_model/model_wall_1\", map_location=torch.device('cpu')))\n",
        "model_wall.eval()\n",
        "\n",
        "# Загрузка модели детекции дверей\n",
        "model_door = initialize_model(1 + max(config['data']['class_ids'].values()),\n",
        "                             config['model']['image_size'], config['model']['image_size'], [0, 0, 0], [1, 1, 1],\n",
        "                             config['training']['device'])\n",
        "model_door.load_state_dict(torch.load(\"/content/drive/MyDrive/model/model_obj_door_1\",  map_location=torch.device('cpu')))\n",
        "class_ids = config['data']['class_ids']\n",
        "reverse_classes_map = {v: k for k, v in class_ids.items()}\n",
        "transform_door = ToTensorV2()\n",
        "model_door.eval()\n",
        "\n",
        "# Прогресс\n",
        "prgBar = IntProgress(min = 0, max = len(os.listdir(folder_dir))) # Создаем прогрессбар\n",
        "display(prgBar) # Выводим прогрессбар на экран\n",
        "\n",
        "for images in os.listdir(folder_dir):\n",
        "    ##Загрузка тестового изображения\n",
        "    image = cv2.imread(folder_dir+images)\n",
        "    converted_image = convert_image(image)\n",
        "\n",
        "    ## Применение сегментации\n",
        "   \n",
        "    image = transform(image=converted_image)['image']\n",
        "    image = tensor_from_rgb_image(image)\n",
        "    image = image.view((1, 3, image.shape[1], image.shape[2]))\n",
        "\n",
        "    ## Получение предсказания по тестовому изображениям\n",
        "    with torch.no_grad():\n",
        "        predict_window = model_window(image)\n",
        "        predict_wall = model_wall(image)\n",
        "\n",
        "    predict_window = torch.sigmoid(predict_window) > 0.2\n",
        "    window = mask_to_grayscale(predict_window[0])\n",
        "\n",
        "    predict_wall = torch.sigmoid(predict_wall) > 0.2\n",
        "    wall = mask_to_grayscale(predict_wall[0])\n",
        "\n",
        "    ## Объединение масок и установка класса (1-стены, 2-окна, 3-двери)\n",
        "    wall[np.where(wall == 255)] = 1\n",
        "    wall[np.where(window == 255)] = 2\n",
        "    \n",
        "\n",
        "    ## Детекция дверей\n",
        "    image = cv2.imread(folder_dir+images).astype(np.float32) / 255\n",
        "    bytearray_ = np.asarray(bytearray(image), dtype=np.uint8)\n",
        "    x = image\n",
        "    x = transform_door(image=x)['image']\n",
        "    with torch.no_grad():\n",
        "        y_pred = model_door([torch.tensor(x, device=config['training']['device'])])[0]\n",
        "        y_pred = {key: y_pred[key].cpu().numpy() for key in y_pred}\n",
        "        y_pred['labels'] = np.array([reverse_classes_map[label] for label in y_pred['labels']])\n",
        "\n",
        "    ## Возвращение оригинального размера изображения\n",
        "    result_img = cv2.resize(wall, (cv2.imread(folder_dir+images).shape[1], cv2.imread(folder_dir+images).shape[0]))\n",
        "\n",
        "    ## Объединение сегментации и детекции\n",
        "    result_img = draw_pred_with_boxes(result_img, y_pred)\n",
        "\n",
        "    ## Сохранение файла\n",
        "    cv2.imwrite(\"/content/drive/MyDrive/test_result/\" + images, result_img)\n",
        "\n",
        "    ## Прогресс\n",
        "    prgBar.value = prgBar.value + 1 # Двигаем \"полоску\""
      ],
      "metadata": {
        "id": "ifthfV3oN467",
        "colab": {
          "base_uri": "https://localhost:8080/",
          "height": 86,
          "referenced_widgets": [
            "3cb8adf81bb74784b87e2611273a8bd5",
            "79139666d6584c6abc533f0503a4dc31",
            "d9539239b6bd462f826816cbd7a4cd45"
          ]
        },
        "outputId": "89ba89a5-efeb-473b-9e2d-c90651c0ce70"
      },
      "execution_count": null,
      "outputs": [
        {
          "output_type": "display_data",
          "data": {
            "text/plain": [
              "IntProgress(value=0, max=1)"
            ],
            "application/vnd.jupyter.widget-view+json": {
              "version_major": 2,
              "version_minor": 0,
              "model_id": "3cb8adf81bb74784b87e2611273a8bd5"
            }
          },
          "metadata": {}
        },
        {
          "output_type": "stream",
          "name": "stderr",
          "text": [
            "/usr/local/lib/python3.7/dist-packages/ipykernel_launcher.py:61: UserWarning: To copy construct from a tensor, it is recommended to use sourceTensor.clone().detach() or sourceTensor.clone().detach().requires_grad_(True), rather than torch.tensor(sourceTensor).\n"
          ]
        }
      ]
    },
    {
      "cell_type": "code",
      "source": [
        "x = cv2.imread('/content/drive/MyDrive/test_result/test.png', 0)\n",
        "plt.imshow(x)\n",
        "x.shape"
      ],
      "metadata": {
        "colab": {
          "base_uri": "https://localhost:8080/",
          "height": 286
        },
        "id": "-NPAHoHo6DD_",
        "outputId": "2148f71c-a5ed-47b9-ee7c-1ffd52f57d1d"
      },
      "execution_count": null,
      "outputs": [
        {
          "output_type": "execute_result",
          "data": {
            "text/plain": [
              "(850, 800)"
            ]
          },
          "metadata": {},
          "execution_count": 41
        },
        {
          "output_type": "display_data",
          "data": {
            "text/plain": [
              "<Figure size 432x288 with 1 Axes>"
            ],
            "image/png": "[encoded data removed]"
          },
          "metadata": {
            "needs_background": "light"
          }
        }
      ]
    }
  ],
  "metadata": {
    "colab": {
      "provenance": [],
      "collapsed_sections": [
        "ZnIyPcTgle1F",
        "RTjlo03_R9tZ",
        "HfkIFx1ylP7Q",
        "ElCb7TxqoOYD"
      ],
      "toc_visible": true
    },
    "kernelspec": {
      "display_name": "Python 3 (ipykernel)",
      "language": "python",
      "name": "python3"
    },
    "language_info": {
      "codemirror_mode": {
        "name": "ipython",
        "version": 3
      },
      "file_extension": ".py",
      "mimetype": "text/x-python",
      "name": "python",
      "nbconvert_exporter": "python",
      "pygments_lexer": "ipython3",
      "version": "3.9.7"
    },
    "gpuClass": "standard",
    "widgets": {
      "application/vnd.jupyter.widget-state+json": {
        "3cb8adf81bb74784b87e2611273a8bd5": {
          "model_module": "@jupyter-widgets/controls",
          "model_name": "IntProgressModel",
          "model_module_version": "1.5.0",
          "state": {
            "_dom_classes": [],
            "_model_module": "@jupyter-widgets/controls",
            "_model_module_version": "1.5.0",
            "_model_name": "IntProgressModel",
            "_view_count": null,
            "_view_module": "@jupyter-widgets/controls",
            "_view_module_version": "1.5.0",
            "_view_name": "ProgressView",
            "bar_style": "",
            "description": "",
            "description_tooltip": null,
            "layout": "IPY_MODEL_79139666d6584c6abc533f0503a4dc31",
            "max": 1,
            "min": 0,
            "orientation": "horizontal",
            "style": "IPY_MODEL_d9539239b6bd462f826816cbd7a4cd45",
            "value": 1
          }
        },
        "79139666d6584c6abc533f0503a4dc31": {
          "model_module": "@jupyter-widgets/base",
          "model_name": "LayoutModel",
          "model_module_version": "1.2.0",
          "state": {
            "_model_module": "@jupyter-widgets/base",
            "_model_module_version": "1.2.0",
            "_model_name": "LayoutModel",
            "_view_count": null,
            "_view_module": "@jupyter-widgets/base",
            "_view_module_version": "1.2.0",
            "_view_name": "LayoutView",
            "align_content": null,
            "align_items": null,
            "align_self": null,
            "border": null,
            "bottom": null,
            "display": null,
            "flex": null,
            "flex_flow": null,
            "grid_area": null,
            "grid_auto_columns": null,
            "grid_auto_flow": null,
            "grid_auto_rows": null,
            "grid_column": null,
            "grid_gap": null,
            "grid_row": null,
            "grid_template_areas": null,
            "grid_template_columns": null,
            "grid_template_rows": null,
            "height": null,
            "justify_content": null,
            "justify_items": null,
            "left": null,
            "margin": null,
            "max_height": null,
            "max_width": null,
            "min_height": null,
            "min_width": null,
            "object_fit": null,
            "object_position": null,
            "order": null,
            "overflow": null,
            "overflow_x": null,
            "overflow_y": null,
            "padding": null,
            "right": null,
            "top": null,
            "visibility": null,
            "width": null
          }
        },
        "d9539239b6bd462f826816cbd7a4cd45": {
          "model_module": "@jupyter-widgets/controls",
          "model_name": "ProgressStyleModel",
          "model_module_version": "1.5.0",
          "state": {
            "_model_module": "@jupyter-widgets/controls",
            "_model_module_version": "1.5.0",
            "_model_name": "ProgressStyleModel",
            "_view_count": null,
            "_view_module": "@jupyter-widgets/base",
            "_view_module_version": "1.2.0",
            "_view_name": "StyleView",
            "bar_color": null,
            "description_width": ""
          }
        }
      }
    }
  },
  "nbformat": 4,
  "nbformat_minor": 0
}